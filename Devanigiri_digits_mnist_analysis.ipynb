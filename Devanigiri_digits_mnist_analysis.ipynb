{
  "nbformat": 4,
  "nbformat_minor": 0,
  "metadata": {
    "colab": {
      "provenance": [],
      "authorship_tag": "ABX9TyODiL8k/pvPPWJ7Lxo98jQB",
      "include_colab_link": true
    },
    "kernelspec": {
      "name": "python3",
      "display_name": "Python 3"
    },
    "language_info": {
      "name": "python"
    }
  },
  "cells": [
    {
      "cell_type": "markdown",
      "metadata": {
        "id": "view-in-github",
        "colab_type": "text"
      },
      "source": [
        "<a href=\"https://colab.research.google.com/github/AnirudhPhophalia/Devanagri_mnist_hindidigit_analysis/blob/main/Devanigiri_digits_mnist_analysis.ipynb\" target=\"_parent\"><img src=\"https://colab.research.google.com/assets/colab-badge.svg\" alt=\"Open In Colab\"/></a>"
      ]
    },
    {
      "cell_type": "code",
      "execution_count": null,
      "metadata": {
        "id": "nPTfxX7OyD7u"
      },
      "outputs": [],
      "source": [
        "# Clear all previous variables from memory (force reset)\n",
        "%reset -f\n"
      ]
    },
    {
      "cell_type": "markdown",
      "source": [
        "Download the datset of devnagri digits"
      ],
      "metadata": {
        "id": "IybUlj7z4ibL"
      }
    },
    {
      "cell_type": "code",
      "source": [
        "import kagglehub\n",
        "\n",
        "# Download dataset from Kaggle\n",
        "path = kagglehub.dataset_download(\"khushimehta1729/devanagri-characters-and-numbers\")\n",
        "print(\"Path to dataset files:\", path)\n"
      ],
      "metadata": {
        "colab": {
          "base_uri": "https://localhost:8080/"
        },
        "id": "_2V9Bidl1Ws4",
        "outputId": "5e1eb72c-ad80-43eb-993a-d4749c4e4382"
      },
      "execution_count": null,
      "outputs": [
        {
          "output_type": "stream",
          "name": "stdout",
          "text": [
            "Downloading from https://www.kaggle.com/api/v1/datasets/download/khushimehta1729/devanagri-characters-and-numbers?dataset_version_number=1...\n"
          ]
        },
        {
          "output_type": "stream",
          "name": "stderr",
          "text": [
            "100%|██████████| 76.1M/76.1M [00:00<00:00, 147MB/s]"
          ]
        },
        {
          "output_type": "stream",
          "name": "stdout",
          "text": [
            "Extracting files...\n"
          ]
        },
        {
          "output_type": "stream",
          "name": "stderr",
          "text": [
            "\n"
          ]
        },
        {
          "output_type": "stream",
          "name": "stdout",
          "text": [
            "Path to dataset files: /root/.cache/kagglehub/datasets/khushimehta1729/devanagri-characters-and-numbers/versions/1\n"
          ]
        }
      ]
    },
    {
      "cell_type": "markdown",
      "source": [
        "Now find the folder structure for proper loading of digits datset only as the whole data contains hindi characters also.\n"
      ],
      "metadata": {
        "id": "eosIKZl74twP"
      }
    },
    {
      "cell_type": "code",
      "source": [
        "import os\n",
        "\n",
        "# List contents\n",
        "for root, dirs, files in os.walk(path):\n",
        "    print(root)\n",
        "    if len(files) > 0:\n",
        "        print(f\"  {len(files)} files\")\n"
      ],
      "metadata": {
        "colab": {
          "base_uri": "https://localhost:8080/"
        },
        "id": "GD-Isrci1aBo",
        "outputId": "efe8a64a-424f-4f06-b768-b23a58c9d715"
      },
      "execution_count": null,
      "outputs": [
        {
          "output_type": "stream",
          "name": "stdout",
          "text": [
            "/root/.cache/kagglehub/datasets/khushimehta1729/devanagri-characters-and-numbers/versions/1\n",
            "/root/.cache/kagglehub/datasets/khushimehta1729/devanagri-characters-and-numbers/versions/1/DevanagariHandwrittenCharacterDataset\n",
            "/root/.cache/kagglehub/datasets/khushimehta1729/devanagri-characters-and-numbers/versions/1/DevanagariHandwrittenCharacterDataset/Train\n",
            "/root/.cache/kagglehub/datasets/khushimehta1729/devanagri-characters-and-numbers/versions/1/DevanagariHandwrittenCharacterDataset/Train/character_25_ma\n",
            "  1700 files\n",
            "/root/.cache/kagglehub/datasets/khushimehta1729/devanagri-characters-and-numbers/versions/1/DevanagariHandwrittenCharacterDataset/Train/character_33_ha\n",
            "  1700 files\n",
            "/root/.cache/kagglehub/datasets/khushimehta1729/devanagri-characters-and-numbers/versions/1/DevanagariHandwrittenCharacterDataset/Train/character_3_ga\n",
            "  1700 files\n",
            "/root/.cache/kagglehub/datasets/khushimehta1729/devanagri-characters-and-numbers/versions/1/DevanagariHandwrittenCharacterDataset/Train/character_35_tra\n",
            "  1700 files\n",
            "/root/.cache/kagglehub/datasets/khushimehta1729/devanagri-characters-and-numbers/versions/1/DevanagariHandwrittenCharacterDataset/Train/character_18_da\n",
            "  1700 files\n",
            "/root/.cache/kagglehub/datasets/khushimehta1729/devanagri-characters-and-numbers/versions/1/DevanagariHandwrittenCharacterDataset/Train/character_21_pa\n",
            "  1700 files\n",
            "/root/.cache/kagglehub/datasets/khushimehta1729/devanagri-characters-and-numbers/versions/1/DevanagariHandwrittenCharacterDataset/Train/character_36_gya\n",
            "  1700 files\n",
            "/root/.cache/kagglehub/datasets/khushimehta1729/devanagri-characters-and-numbers/versions/1/DevanagariHandwrittenCharacterDataset/Train/character_31_petchiryakha\n",
            "  1700 files\n",
            "/root/.cache/kagglehub/datasets/khushimehta1729/devanagri-characters-and-numbers/versions/1/DevanagariHandwrittenCharacterDataset/Train/character_12_thaa\n",
            "  1700 files\n",
            "/root/.cache/kagglehub/datasets/khushimehta1729/devanagri-characters-and-numbers/versions/1/DevanagariHandwrittenCharacterDataset/Train/character_29_waw\n",
            "  1700 files\n",
            "/root/.cache/kagglehub/datasets/khushimehta1729/devanagri-characters-and-numbers/versions/1/DevanagariHandwrittenCharacterDataset/Train/character_13_daa\n",
            "  1700 files\n",
            "/root/.cache/kagglehub/datasets/khushimehta1729/devanagri-characters-and-numbers/versions/1/DevanagariHandwrittenCharacterDataset/Train/character_2_kha\n",
            "  1700 files\n",
            "/root/.cache/kagglehub/datasets/khushimehta1729/devanagri-characters-and-numbers/versions/1/DevanagariHandwrittenCharacterDataset/Train/digit_9\n",
            "  1700 files\n",
            "/root/.cache/kagglehub/datasets/khushimehta1729/devanagri-characters-and-numbers/versions/1/DevanagariHandwrittenCharacterDataset/Train/digit_6\n",
            "  1700 files\n",
            "/root/.cache/kagglehub/datasets/khushimehta1729/devanagri-characters-and-numbers/versions/1/DevanagariHandwrittenCharacterDataset/Train/character_14_dhaa\n",
            "  1700 files\n",
            "/root/.cache/kagglehub/datasets/khushimehta1729/devanagri-characters-and-numbers/versions/1/DevanagariHandwrittenCharacterDataset/Train/digit_5\n",
            "  1700 files\n",
            "/root/.cache/kagglehub/datasets/khushimehta1729/devanagri-characters-and-numbers/versions/1/DevanagariHandwrittenCharacterDataset/Train/character_16_tabala\n",
            "  1700 files\n",
            "/root/.cache/kagglehub/datasets/khushimehta1729/devanagri-characters-and-numbers/versions/1/DevanagariHandwrittenCharacterDataset/Train/character_5_kna\n",
            "  1700 files\n",
            "/root/.cache/kagglehub/datasets/khushimehta1729/devanagri-characters-and-numbers/versions/1/DevanagariHandwrittenCharacterDataset/Train/character_32_patalosaw\n",
            "  1700 files\n",
            "/root/.cache/kagglehub/datasets/khushimehta1729/devanagri-characters-and-numbers/versions/1/DevanagariHandwrittenCharacterDataset/Train/digit_3\n",
            "  1700 files\n",
            "/root/.cache/kagglehub/datasets/khushimehta1729/devanagri-characters-and-numbers/versions/1/DevanagariHandwrittenCharacterDataset/Train/digit_0\n",
            "  1700 files\n",
            "/root/.cache/kagglehub/datasets/khushimehta1729/devanagri-characters-and-numbers/versions/1/DevanagariHandwrittenCharacterDataset/Train/digit_4\n",
            "  1700 files\n",
            "/root/.cache/kagglehub/datasets/khushimehta1729/devanagri-characters-and-numbers/versions/1/DevanagariHandwrittenCharacterDataset/Train/character_4_gha\n",
            "  1700 files\n",
            "/root/.cache/kagglehub/datasets/khushimehta1729/devanagri-characters-and-numbers/versions/1/DevanagariHandwrittenCharacterDataset/Train/character_6_cha\n",
            "  1700 files\n",
            "/root/.cache/kagglehub/datasets/khushimehta1729/devanagri-characters-and-numbers/versions/1/DevanagariHandwrittenCharacterDataset/Train/character_24_bha\n",
            "  1700 files\n",
            "/root/.cache/kagglehub/datasets/khushimehta1729/devanagri-characters-and-numbers/versions/1/DevanagariHandwrittenCharacterDataset/Train/digit_7\n",
            "  1700 files\n",
            "/root/.cache/kagglehub/datasets/khushimehta1729/devanagri-characters-and-numbers/versions/1/DevanagariHandwrittenCharacterDataset/Train/character_20_na\n",
            "  1700 files\n",
            "/root/.cache/kagglehub/datasets/khushimehta1729/devanagri-characters-and-numbers/versions/1/DevanagariHandwrittenCharacterDataset/Train/character_9_jha\n",
            "  1700 files\n",
            "/root/.cache/kagglehub/datasets/khushimehta1729/devanagri-characters-and-numbers/versions/1/DevanagariHandwrittenCharacterDataset/Train/character_10_yna\n",
            "  1700 files\n",
            "/root/.cache/kagglehub/datasets/khushimehta1729/devanagri-characters-and-numbers/versions/1/DevanagariHandwrittenCharacterDataset/Train/character_34_chhya\n",
            "  1700 files\n",
            "/root/.cache/kagglehub/datasets/khushimehta1729/devanagri-characters-and-numbers/versions/1/DevanagariHandwrittenCharacterDataset/Train/character_17_tha\n",
            "  1700 files\n",
            "/root/.cache/kagglehub/datasets/khushimehta1729/devanagri-characters-and-numbers/versions/1/DevanagariHandwrittenCharacterDataset/Train/digit_2\n",
            "  1700 files\n",
            "/root/.cache/kagglehub/datasets/khushimehta1729/devanagri-characters-and-numbers/versions/1/DevanagariHandwrittenCharacterDataset/Train/character_11_taamatar\n",
            "  1700 files\n",
            "/root/.cache/kagglehub/datasets/khushimehta1729/devanagri-characters-and-numbers/versions/1/DevanagariHandwrittenCharacterDataset/Train/digit_8\n",
            "  1700 files\n",
            "/root/.cache/kagglehub/datasets/khushimehta1729/devanagri-characters-and-numbers/versions/1/DevanagariHandwrittenCharacterDataset/Train/character_23_ba\n",
            "  1700 files\n",
            "/root/.cache/kagglehub/datasets/khushimehta1729/devanagri-characters-and-numbers/versions/1/DevanagariHandwrittenCharacterDataset/Train/character_27_ra\n",
            "  1700 files\n",
            "/root/.cache/kagglehub/datasets/khushimehta1729/devanagri-characters-and-numbers/versions/1/DevanagariHandwrittenCharacterDataset/Train/digit_1\n",
            "  1700 files\n",
            "/root/.cache/kagglehub/datasets/khushimehta1729/devanagri-characters-and-numbers/versions/1/DevanagariHandwrittenCharacterDataset/Train/character_8_ja\n",
            "  1700 files\n",
            "/root/.cache/kagglehub/datasets/khushimehta1729/devanagri-characters-and-numbers/versions/1/DevanagariHandwrittenCharacterDataset/Train/character_7_chha\n",
            "  1700 files\n",
            "/root/.cache/kagglehub/datasets/khushimehta1729/devanagri-characters-and-numbers/versions/1/DevanagariHandwrittenCharacterDataset/Train/character_19_dha\n",
            "  1700 files\n",
            "/root/.cache/kagglehub/datasets/khushimehta1729/devanagri-characters-and-numbers/versions/1/DevanagariHandwrittenCharacterDataset/Train/character_22_pha\n",
            "  1700 files\n",
            "/root/.cache/kagglehub/datasets/khushimehta1729/devanagri-characters-and-numbers/versions/1/DevanagariHandwrittenCharacterDataset/Train/character_1_ka\n",
            "  1700 files\n",
            "/root/.cache/kagglehub/datasets/khushimehta1729/devanagri-characters-and-numbers/versions/1/DevanagariHandwrittenCharacterDataset/Train/character_26_yaw\n",
            "  1700 files\n",
            "/root/.cache/kagglehub/datasets/khushimehta1729/devanagri-characters-and-numbers/versions/1/DevanagariHandwrittenCharacterDataset/Train/character_15_adna\n",
            "  1700 files\n",
            "/root/.cache/kagglehub/datasets/khushimehta1729/devanagri-characters-and-numbers/versions/1/DevanagariHandwrittenCharacterDataset/Train/character_28_la\n",
            "  1700 files\n",
            "/root/.cache/kagglehub/datasets/khushimehta1729/devanagri-characters-and-numbers/versions/1/DevanagariHandwrittenCharacterDataset/Train/character_30_motosaw\n",
            "  1700 files\n",
            "/root/.cache/kagglehub/datasets/khushimehta1729/devanagri-characters-and-numbers/versions/1/DevanagariHandwrittenCharacterDataset/Test\n",
            "/root/.cache/kagglehub/datasets/khushimehta1729/devanagri-characters-and-numbers/versions/1/DevanagariHandwrittenCharacterDataset/Test/character_25_ma\n",
            "  300 files\n",
            "/root/.cache/kagglehub/datasets/khushimehta1729/devanagri-characters-and-numbers/versions/1/DevanagariHandwrittenCharacterDataset/Test/character_33_ha\n",
            "  300 files\n",
            "/root/.cache/kagglehub/datasets/khushimehta1729/devanagri-characters-and-numbers/versions/1/DevanagariHandwrittenCharacterDataset/Test/character_3_ga\n",
            "  300 files\n",
            "/root/.cache/kagglehub/datasets/khushimehta1729/devanagri-characters-and-numbers/versions/1/DevanagariHandwrittenCharacterDataset/Test/character_35_tra\n",
            "  300 files\n",
            "/root/.cache/kagglehub/datasets/khushimehta1729/devanagri-characters-and-numbers/versions/1/DevanagariHandwrittenCharacterDataset/Test/character_18_da\n",
            "  300 files\n",
            "/root/.cache/kagglehub/datasets/khushimehta1729/devanagri-characters-and-numbers/versions/1/DevanagariHandwrittenCharacterDataset/Test/character_21_pa\n",
            "  300 files\n",
            "/root/.cache/kagglehub/datasets/khushimehta1729/devanagri-characters-and-numbers/versions/1/DevanagariHandwrittenCharacterDataset/Test/character_36_gya\n",
            "  300 files\n",
            "/root/.cache/kagglehub/datasets/khushimehta1729/devanagri-characters-and-numbers/versions/1/DevanagariHandwrittenCharacterDataset/Test/character_31_petchiryakha\n",
            "  300 files\n",
            "/root/.cache/kagglehub/datasets/khushimehta1729/devanagri-characters-and-numbers/versions/1/DevanagariHandwrittenCharacterDataset/Test/character_12_thaa\n",
            "  300 files\n",
            "/root/.cache/kagglehub/datasets/khushimehta1729/devanagri-characters-and-numbers/versions/1/DevanagariHandwrittenCharacterDataset/Test/character_29_waw\n",
            "  300 files\n",
            "/root/.cache/kagglehub/datasets/khushimehta1729/devanagri-characters-and-numbers/versions/1/DevanagariHandwrittenCharacterDataset/Test/character_13_daa\n",
            "  300 files\n",
            "/root/.cache/kagglehub/datasets/khushimehta1729/devanagri-characters-and-numbers/versions/1/DevanagariHandwrittenCharacterDataset/Test/character_2_kha\n",
            "  300 files\n",
            "/root/.cache/kagglehub/datasets/khushimehta1729/devanagri-characters-and-numbers/versions/1/DevanagariHandwrittenCharacterDataset/Test/digit_9\n",
            "  300 files\n",
            "/root/.cache/kagglehub/datasets/khushimehta1729/devanagri-characters-and-numbers/versions/1/DevanagariHandwrittenCharacterDataset/Test/digit_6\n",
            "  300 files\n",
            "/root/.cache/kagglehub/datasets/khushimehta1729/devanagri-characters-and-numbers/versions/1/DevanagariHandwrittenCharacterDataset/Test/character_14_dhaa\n",
            "  300 files\n",
            "/root/.cache/kagglehub/datasets/khushimehta1729/devanagri-characters-and-numbers/versions/1/DevanagariHandwrittenCharacterDataset/Test/digit_5\n",
            "  300 files\n",
            "/root/.cache/kagglehub/datasets/khushimehta1729/devanagri-characters-and-numbers/versions/1/DevanagariHandwrittenCharacterDataset/Test/character_16_tabala\n",
            "  300 files\n",
            "/root/.cache/kagglehub/datasets/khushimehta1729/devanagri-characters-and-numbers/versions/1/DevanagariHandwrittenCharacterDataset/Test/character_5_kna\n",
            "  300 files\n",
            "/root/.cache/kagglehub/datasets/khushimehta1729/devanagri-characters-and-numbers/versions/1/DevanagariHandwrittenCharacterDataset/Test/character_32_patalosaw\n",
            "  300 files\n",
            "/root/.cache/kagglehub/datasets/khushimehta1729/devanagri-characters-and-numbers/versions/1/DevanagariHandwrittenCharacterDataset/Test/digit_3\n",
            "  300 files\n",
            "/root/.cache/kagglehub/datasets/khushimehta1729/devanagri-characters-and-numbers/versions/1/DevanagariHandwrittenCharacterDataset/Test/digit_0\n",
            "  300 files\n",
            "/root/.cache/kagglehub/datasets/khushimehta1729/devanagri-characters-and-numbers/versions/1/DevanagariHandwrittenCharacterDataset/Test/digit_4\n",
            "  300 files\n",
            "/root/.cache/kagglehub/datasets/khushimehta1729/devanagri-characters-and-numbers/versions/1/DevanagariHandwrittenCharacterDataset/Test/character_4_gha\n",
            "  300 files\n",
            "/root/.cache/kagglehub/datasets/khushimehta1729/devanagri-characters-and-numbers/versions/1/DevanagariHandwrittenCharacterDataset/Test/character_6_cha\n",
            "  300 files\n",
            "/root/.cache/kagglehub/datasets/khushimehta1729/devanagri-characters-and-numbers/versions/1/DevanagariHandwrittenCharacterDataset/Test/character_24_bha\n",
            "  300 files\n",
            "/root/.cache/kagglehub/datasets/khushimehta1729/devanagri-characters-and-numbers/versions/1/DevanagariHandwrittenCharacterDataset/Test/digit_7\n",
            "  300 files\n",
            "/root/.cache/kagglehub/datasets/khushimehta1729/devanagri-characters-and-numbers/versions/1/DevanagariHandwrittenCharacterDataset/Test/character_20_na\n",
            "  300 files\n",
            "/root/.cache/kagglehub/datasets/khushimehta1729/devanagri-characters-and-numbers/versions/1/DevanagariHandwrittenCharacterDataset/Test/character_9_jha\n",
            "  300 files\n",
            "/root/.cache/kagglehub/datasets/khushimehta1729/devanagri-characters-and-numbers/versions/1/DevanagariHandwrittenCharacterDataset/Test/character_10_yna\n",
            "  300 files\n",
            "/root/.cache/kagglehub/datasets/khushimehta1729/devanagri-characters-and-numbers/versions/1/DevanagariHandwrittenCharacterDataset/Test/character_34_chhya\n",
            "  300 files\n",
            "/root/.cache/kagglehub/datasets/khushimehta1729/devanagri-characters-and-numbers/versions/1/DevanagariHandwrittenCharacterDataset/Test/character_17_tha\n",
            "  300 files\n",
            "/root/.cache/kagglehub/datasets/khushimehta1729/devanagri-characters-and-numbers/versions/1/DevanagariHandwrittenCharacterDataset/Test/digit_2\n",
            "  300 files\n",
            "/root/.cache/kagglehub/datasets/khushimehta1729/devanagri-characters-and-numbers/versions/1/DevanagariHandwrittenCharacterDataset/Test/character_11_taamatar\n",
            "  300 files\n",
            "/root/.cache/kagglehub/datasets/khushimehta1729/devanagri-characters-and-numbers/versions/1/DevanagariHandwrittenCharacterDataset/Test/digit_8\n",
            "  300 files\n",
            "/root/.cache/kagglehub/datasets/khushimehta1729/devanagri-characters-and-numbers/versions/1/DevanagariHandwrittenCharacterDataset/Test/character_23_ba\n",
            "  300 files\n",
            "/root/.cache/kagglehub/datasets/khushimehta1729/devanagri-characters-and-numbers/versions/1/DevanagariHandwrittenCharacterDataset/Test/character_27_ra\n",
            "  300 files\n",
            "/root/.cache/kagglehub/datasets/khushimehta1729/devanagri-characters-and-numbers/versions/1/DevanagariHandwrittenCharacterDataset/Test/digit_1\n",
            "  300 files\n",
            "/root/.cache/kagglehub/datasets/khushimehta1729/devanagri-characters-and-numbers/versions/1/DevanagariHandwrittenCharacterDataset/Test/character_8_ja\n",
            "  300 files\n",
            "/root/.cache/kagglehub/datasets/khushimehta1729/devanagri-characters-and-numbers/versions/1/DevanagariHandwrittenCharacterDataset/Test/character_7_chha\n",
            "  300 files\n",
            "/root/.cache/kagglehub/datasets/khushimehta1729/devanagri-characters-and-numbers/versions/1/DevanagariHandwrittenCharacterDataset/Test/character_19_dha\n",
            "  300 files\n",
            "/root/.cache/kagglehub/datasets/khushimehta1729/devanagri-characters-and-numbers/versions/1/DevanagariHandwrittenCharacterDataset/Test/character_22_pha\n",
            "  300 files\n",
            "/root/.cache/kagglehub/datasets/khushimehta1729/devanagri-characters-and-numbers/versions/1/DevanagariHandwrittenCharacterDataset/Test/character_1_ka\n",
            "  300 files\n",
            "/root/.cache/kagglehub/datasets/khushimehta1729/devanagri-characters-and-numbers/versions/1/DevanagariHandwrittenCharacterDataset/Test/character_26_yaw\n",
            "  300 files\n",
            "/root/.cache/kagglehub/datasets/khushimehta1729/devanagri-characters-and-numbers/versions/1/DevanagariHandwrittenCharacterDataset/Test/character_15_adna\n",
            "  300 files\n",
            "/root/.cache/kagglehub/datasets/khushimehta1729/devanagri-characters-and-numbers/versions/1/DevanagariHandwrittenCharacterDataset/Test/character_28_la\n",
            "  300 files\n",
            "/root/.cache/kagglehub/datasets/khushimehta1729/devanagri-characters-and-numbers/versions/1/DevanagariHandwrittenCharacterDataset/Test/character_30_motosaw\n",
            "  300 files\n"
          ]
        }
      ]
    },
    {
      "cell_type": "code",
      "source": [
        "import cv2\n",
        "import numpy as np\n",
        "from sklearn.model_selection import train_test_split\n",
        "\n",
        "# it is the path where all our digits are located\n",
        "base_path = \"/root/.cache/kagglehub/datasets/khushimehta1729/devanagri-characters-and-numbers/versions/1/DevanagariHandwrittenCharacterDataset/Train\"\n",
        "\n",
        "images, labels = [], []\n",
        "\n",
        "# as teh digits are in differnt folder , make a for loop to load digits from each folder\n",
        "for i in range(10):\n",
        "    folder = os.path.join(base_path, f\"digit_{i}\")\n",
        "    if not os.path.exists(folder):\n",
        "        print(f\"the given folder DNE: {folder}\")\n",
        "        continue\n",
        "\n",
        "    #  now we will loop through all images in teh folder ot load them correctly\n",
        "    for file in os.listdir(folder):\n",
        "        file_path = os.path.join(folder, file)\n",
        "        img = cv2.imread(file_path, cv2.IMREAD_GRAYSCALE)\n",
        "        if img is not None:\n",
        "            img = cv2.resize(img, (32, 32))\n",
        "             # if the image will be succesfully loaded resizing it for better consistency and tehn finally appending it into the lists\n",
        "            images.append(img)\n",
        "            labels.append(i)\n",
        "\n",
        "# reashapeing and normalization\n",
        "X = np.array(images).reshape(-1, 32, 32, 1).astype(\"float32\") / 255.0\n",
        "y = np.array(labels)\n",
        "\n",
        "# Train-test split\n",
        "X_train, X_test, y_train, y_test = train_test_split(X, y, test_size=0.2, random_state=42)\n",
        "\n",
        "print(\"Hindi digits loaded successfully\")\n",
        "print(\"X_train shape:\", X_train.shape)\n",
        "print(\"X_test shape:\", X_test.shape)\n"
      ],
      "metadata": {
        "colab": {
          "base_uri": "https://localhost:8080/"
        },
        "id": "Kip87b4Z3tHW",
        "outputId": "0f65e19b-a3b5-4471-d4e4-f18b8de85250"
      },
      "execution_count": null,
      "outputs": [
        {
          "output_type": "stream",
          "name": "stdout",
          "text": [
            "Hindi digits loaded successfully\n",
            "X_train shape: (13600, 32, 32, 1)\n",
            "X_test shape: (3400, 32, 32, 1)\n"
          ]
        }
      ]
    },
    {
      "cell_type": "markdown",
      "source": [
        "Now we got the shape and like we can just visualize the images once for confirmation"
      ],
      "metadata": {
        "id": "4r0OGeNM6KaS"
      }
    },
    {
      "cell_type": "code",
      "source": [
        "import matplotlib.pyplot as plt\n",
        "\n",
        "# Show 10 sample images from the training set\n",
        "plt.figure(figsize=(10, 4))\n",
        "for i in range(10):\n",
        "    plt.subplot(2, 5, i + 1)\n",
        "    plt.imshow(X_train[i].reshape(32, 32), cmap='gray')\n",
        "    plt.title(f\"Label: {y_train[i]}\")\n",
        "    plt.axis('off')\n",
        "plt.tight_layout()\n",
        "plt.suptitle(\"Sample Hindi Digits\")\n",
        "plt.show()\n"
      ],
      "metadata": {
        "colab": {
          "base_uri": "https://localhost:8080/",
          "height": 414
        },
        "id": "FxAftjLa38np",
        "outputId": "15c431b7-c717-4adb-ccd5-dddb78ef0766"
      },
      "execution_count": null,
      "outputs": [
        {
          "output_type": "display_data",
          "data": {
            "text/plain": [
              "<Figure size 1000x400 with 10 Axes>"
            ],
            "image/png": "[encoded data removed]"
          },
          "metadata": {}
        }
      ]
    },
    {
      "cell_type": "markdown",
      "source": [
        "ya so all the digits looks pretty good, greta"
      ],
      "metadata": {
        "id": "_x9CRnKa6oWU"
      }
    },
    {
      "cell_type": "markdown",
      "source": [
        "now lets build our cnn model"
      ],
      "metadata": {
        "id": "1gXCNjnX6wEz"
      }
    },
    {
      "cell_type": "code",
      "source": [
        "import tensorflow as tf\n",
        "from tensorflow.keras.models import Sequential\n",
        "from tensorflow.keras.layers import Conv2D, MaxPooling2D, Flatten, Dense, Dropout\n",
        "\n",
        "model = Sequential([\n",
        "    Conv2D(32, (3, 3), activation='relu', input_shape=(32, 32, 1)),  # Conv layer 1\n",
        "    MaxPooling2D((2, 2)),  # Pooling layer 1\n",
        "    Conv2D(64, (3, 3), activation='relu'), # Conv layer 2\n",
        "    MaxPooling2D((2, 2)),  # Pooling layer 2\n",
        "    Flatten(),   # Flatten for dense layers\n",
        "    Dense(128, activation='relu'),  # Fully connected layer\n",
        "    Dropout(0.3),   # Regularization\n",
        "    Dense(10, activation='softmax')  # Output layer for classification\n",
        "])\n",
        "\n"
      ],
      "metadata": {
        "colab": {
          "base_uri": "https://localhost:8080/"
        },
        "id": "JI2DeYiS4EGW",
        "outputId": "ed7c28d8-9af9-47f7-813e-db831b509d6e"
      },
      "execution_count": null,
      "outputs": [
        {
          "output_type": "stream",
          "name": "stderr",
          "text": [
            "/usr/local/lib/python3.11/dist-packages/keras/src/layers/convolutional/base_conv.py:107: UserWarning: Do not pass an `input_shape`/`input_dim` argument to a layer. When using Sequential models, prefer using an `Input(shape)` object as the first layer in the model instead.\n",
            "  super().__init__(activity_regularizer=activity_regularizer, **kwargs)\n"
          ]
        }
      ]
    },
    {
      "cell_type": "code",
      "source": [
        "# now lets compile our model with basic optimizer adam and also print summary of the model\n",
        "model.compile(optimizer='adam',\n",
        "              loss='sparse_categorical_crossentropy',\n",
        "              metrics=['accuracy'])\n",
        "\n",
        "model.summary()"
      ],
      "metadata": {
        "colab": {
          "base_uri": "https://localhost:8080/",
          "height": 385
        },
        "id": "Juw-C9LT8HLF",
        "outputId": "06734c74-5f63-4055-b018-1ad14915432f"
      },
      "execution_count": null,
      "outputs": [
        {
          "output_type": "display_data",
          "data": {
            "text/plain": [
              "\u001b[1mModel: \"sequential\"\u001b[0m\n"
            ],
            "text/html": [
              "<pre style=\"white-space:pre;overflow-x:auto;line-height:normal;font-family:Menlo,'DejaVu Sans Mono',consolas,'Courier New',monospace\"><span style=\"font-weight: bold\">Model: \"sequential\"</span>\n",
              "</pre>\n"
            ]
          },
          "metadata": {}
        },
        {
          "output_type": "display_data",
          "data": {
            "text/plain": [
              "┏━━━━━━━━━━━━━━━━━━━━━━━━━━━━━━━━━┳━━━━━━━━━━━━━━━━━━━━━━━━┳━━━━━━━━━━━━━━━┓\n",
              "┃\u001b[1m \u001b[0m\u001b[1mLayer (type)                   \u001b[0m\u001b[1m \u001b[0m┃\u001b[1m \u001b[0m\u001b[1mOutput Shape          \u001b[0m\u001b[1m \u001b[0m┃\u001b[1m \u001b[0m\u001b[1m      Param #\u001b[0m\u001b[1m \u001b[0m┃\n",
              "┡━━━━━━━━━━━━━━━━━━━━━━━━━━━━━━━━━╇━━━━━━━━━━━━━━━━━━━━━━━━╇━━━━━━━━━━━━━━━┩\n",
              "│ conv2d (\u001b[38;5;33mConv2D\u001b[0m)                 │ (\u001b[38;5;45mNone\u001b[0m, \u001b[38;5;34m30\u001b[0m, \u001b[38;5;34m30\u001b[0m, \u001b[38;5;34m32\u001b[0m)     │           \u001b[38;5;34m320\u001b[0m │\n",
              "├─────────────────────────────────┼────────────────────────┼───────────────┤\n",
              "│ max_pooling2d (\u001b[38;5;33mMaxPooling2D\u001b[0m)    │ (\u001b[38;5;45mNone\u001b[0m, \u001b[38;5;34m15\u001b[0m, \u001b[38;5;34m15\u001b[0m, \u001b[38;5;34m32\u001b[0m)     │             \u001b[38;5;34m0\u001b[0m │\n",
              "├─────────────────────────────────┼────────────────────────┼───────────────┤\n",
              "│ conv2d_1 (\u001b[38;5;33mConv2D\u001b[0m)               │ (\u001b[38;5;45mNone\u001b[0m, \u001b[38;5;34m13\u001b[0m, \u001b[38;5;34m13\u001b[0m, \u001b[38;5;34m64\u001b[0m)     │        \u001b[38;5;34m18,496\u001b[0m │\n",
              "├─────────────────────────────────┼────────────────────────┼───────────────┤\n",
              "│ max_pooling2d_1 (\u001b[38;5;33mMaxPooling2D\u001b[0m)  │ (\u001b[38;5;45mNone\u001b[0m, \u001b[38;5;34m6\u001b[0m, \u001b[38;5;34m6\u001b[0m, \u001b[38;5;34m64\u001b[0m)       │             \u001b[38;5;34m0\u001b[0m │\n",
              "├─────────────────────────────────┼────────────────────────┼───────────────┤\n",
              "│ flatten (\u001b[38;5;33mFlatten\u001b[0m)               │ (\u001b[38;5;45mNone\u001b[0m, \u001b[38;5;34m2304\u001b[0m)           │             \u001b[38;5;34m0\u001b[0m │\n",
              "├─────────────────────────────────┼────────────────────────┼───────────────┤\n",
              "│ dense (\u001b[38;5;33mDense\u001b[0m)                   │ (\u001b[38;5;45mNone\u001b[0m, \u001b[38;5;34m128\u001b[0m)            │       \u001b[38;5;34m295,040\u001b[0m │\n",
              "├─────────────────────────────────┼────────────────────────┼───────────────┤\n",
              "│ dropout (\u001b[38;5;33mDropout\u001b[0m)               │ (\u001b[38;5;45mNone\u001b[0m, \u001b[38;5;34m128\u001b[0m)            │             \u001b[38;5;34m0\u001b[0m │\n",
              "├─────────────────────────────────┼────────────────────────┼───────────────┤\n",
              "│ dense_1 (\u001b[38;5;33mDense\u001b[0m)                 │ (\u001b[38;5;45mNone\u001b[0m, \u001b[38;5;34m10\u001b[0m)             │         \u001b[38;5;34m1,290\u001b[0m │\n",
              "└─────────────────────────────────┴────────────────────────┴───────────────┘\n"
            ],
            "text/html": [
              "<pre style=\"white-space:pre;overflow-x:auto;line-height:normal;font-family:Menlo,'DejaVu Sans Mono',consolas,'Courier New',monospace\">┏━━━━━━━━━━━━━━━━━━━━━━━━━━━━━━━━━┳━━━━━━━━━━━━━━━━━━━━━━━━┳━━━━━━━━━━━━━━━┓\n",
              "┃<span style=\"font-weight: bold\"> Layer (type)                    </span>┃<span style=\"font-weight: bold\"> Output Shape           </span>┃<span style=\"font-weight: bold\">       Param # </span>┃\n",
              "┡━━━━━━━━━━━━━━━━━━━━━━━━━━━━━━━━━╇━━━━━━━━━━━━━━━━━━━━━━━━╇━━━━━━━━━━━━━━━┩\n",
              "│ conv2d (<span style=\"color: #0087ff; text-decoration-color: #0087ff\">Conv2D</span>)                 │ (<span style=\"color: #00d7ff; text-decoration-color: #00d7ff\">None</span>, <span style=\"color: #00af00; text-decoration-color: #00af00\">30</span>, <span style=\"color: #00af00; text-decoration-color: #00af00\">30</span>, <span style=\"color: #00af00; text-decoration-color: #00af00\">32</span>)     │           <span style=\"color: #00af00; text-decoration-color: #00af00\">320</span> │\n",
              "├─────────────────────────────────┼────────────────────────┼───────────────┤\n",
              "│ max_pooling2d (<span style=\"color: #0087ff; text-decoration-color: #0087ff\">MaxPooling2D</span>)    │ (<span style=\"color: #00d7ff; text-decoration-color: #00d7ff\">None</span>, <span style=\"color: #00af00; text-decoration-color: #00af00\">15</span>, <span style=\"color: #00af00; text-decoration-color: #00af00\">15</span>, <span style=\"color: #00af00; text-decoration-color: #00af00\">32</span>)     │             <span style=\"color: #00af00; text-decoration-color: #00af00\">0</span> │\n",
              "├─────────────────────────────────┼────────────────────────┼───────────────┤\n",
              "│ conv2d_1 (<span style=\"color: #0087ff; text-decoration-color: #0087ff\">Conv2D</span>)               │ (<span style=\"color: #00d7ff; text-decoration-color: #00d7ff\">None</span>, <span style=\"color: #00af00; text-decoration-color: #00af00\">13</span>, <span style=\"color: #00af00; text-decoration-color: #00af00\">13</span>, <span style=\"color: #00af00; text-decoration-color: #00af00\">64</span>)     │        <span style=\"color: #00af00; text-decoration-color: #00af00\">18,496</span> │\n",
              "├─────────────────────────────────┼────────────────────────┼───────────────┤\n",
              "│ max_pooling2d_1 (<span style=\"color: #0087ff; text-decoration-color: #0087ff\">MaxPooling2D</span>)  │ (<span style=\"color: #00d7ff; text-decoration-color: #00d7ff\">None</span>, <span style=\"color: #00af00; text-decoration-color: #00af00\">6</span>, <span style=\"color: #00af00; text-decoration-color: #00af00\">6</span>, <span style=\"color: #00af00; text-decoration-color: #00af00\">64</span>)       │             <span style=\"color: #00af00; text-decoration-color: #00af00\">0</span> │\n",
              "├─────────────────────────────────┼────────────────────────┼───────────────┤\n",
              "│ flatten (<span style=\"color: #0087ff; text-decoration-color: #0087ff\">Flatten</span>)               │ (<span style=\"color: #00d7ff; text-decoration-color: #00d7ff\">None</span>, <span style=\"color: #00af00; text-decoration-color: #00af00\">2304</span>)           │             <span style=\"color: #00af00; text-decoration-color: #00af00\">0</span> │\n",
              "├─────────────────────────────────┼────────────────────────┼───────────────┤\n",
              "│ dense (<span style=\"color: #0087ff; text-decoration-color: #0087ff\">Dense</span>)                   │ (<span style=\"color: #00d7ff; text-decoration-color: #00d7ff\">None</span>, <span style=\"color: #00af00; text-decoration-color: #00af00\">128</span>)            │       <span style=\"color: #00af00; text-decoration-color: #00af00\">295,040</span> │\n",
              "├─────────────────────────────────┼────────────────────────┼───────────────┤\n",
              "│ dropout (<span style=\"color: #0087ff; text-decoration-color: #0087ff\">Dropout</span>)               │ (<span style=\"color: #00d7ff; text-decoration-color: #00d7ff\">None</span>, <span style=\"color: #00af00; text-decoration-color: #00af00\">128</span>)            │             <span style=\"color: #00af00; text-decoration-color: #00af00\">0</span> │\n",
              "├─────────────────────────────────┼────────────────────────┼───────────────┤\n",
              "│ dense_1 (<span style=\"color: #0087ff; text-decoration-color: #0087ff\">Dense</span>)                 │ (<span style=\"color: #00d7ff; text-decoration-color: #00d7ff\">None</span>, <span style=\"color: #00af00; text-decoration-color: #00af00\">10</span>)             │         <span style=\"color: #00af00; text-decoration-color: #00af00\">1,290</span> │\n",
              "└─────────────────────────────────┴────────────────────────┴───────────────┘\n",
              "</pre>\n"
            ]
          },
          "metadata": {}
        },
        {
          "output_type": "display_data",
          "data": {
            "text/plain": [
              "\u001b[1m Total params: \u001b[0m\u001b[38;5;34m315,146\u001b[0m (1.20 MB)\n"
            ],
            "text/html": [
              "<pre style=\"white-space:pre;overflow-x:auto;line-height:normal;font-family:Menlo,'DejaVu Sans Mono',consolas,'Courier New',monospace\"><span style=\"font-weight: bold\"> Total params: </span><span style=\"color: #00af00; text-decoration-color: #00af00\">315,146</span> (1.20 MB)\n",
              "</pre>\n"
            ]
          },
          "metadata": {}
        },
        {
          "output_type": "display_data",
          "data": {
            "text/plain": [
              "\u001b[1m Trainable params: \u001b[0m\u001b[38;5;34m315,146\u001b[0m (1.20 MB)\n"
            ],
            "text/html": [
              "<pre style=\"white-space:pre;overflow-x:auto;line-height:normal;font-family:Menlo,'DejaVu Sans Mono',consolas,'Courier New',monospace\"><span style=\"font-weight: bold\"> Trainable params: </span><span style=\"color: #00af00; text-decoration-color: #00af00\">315,146</span> (1.20 MB)\n",
              "</pre>\n"
            ]
          },
          "metadata": {}
        },
        {
          "output_type": "display_data",
          "data": {
            "text/plain": [
              "\u001b[1m Non-trainable params: \u001b[0m\u001b[38;5;34m0\u001b[0m (0.00 B)\n"
            ],
            "text/html": [
              "<pre style=\"white-space:pre;overflow-x:auto;line-height:normal;font-family:Menlo,'DejaVu Sans Mono',consolas,'Courier New',monospace\"><span style=\"font-weight: bold\"> Non-trainable params: </span><span style=\"color: #00af00; text-decoration-color: #00af00\">0</span> (0.00 B)\n",
              "</pre>\n"
            ]
          },
          "metadata": {}
        }
      ]
    },
    {
      "cell_type": "code",
      "source": [
        "# now lets train teh model that is fit it\n",
        "history = model.fit(X_train, y_train,\n",
        "                    epochs=5,\n",
        "                    batch_size=64,\n",
        "                    validation_split=0.1)\n"
      ],
      "metadata": {
        "colab": {
          "base_uri": "https://localhost:8080/"
        },
        "id": "E_LADfj88XZg",
        "outputId": "323a2d1b-74f1-4f93-a3b0-16ba956e4242"
      },
      "execution_count": null,
      "outputs": [
        {
          "output_type": "stream",
          "name": "stdout",
          "text": [
            "Epoch 1/5\n",
            "\u001b[1m192/192\u001b[0m \u001b[32m━━━━━━━━━━━━━━━━━━━━\u001b[0m\u001b[37m\u001b[0m \u001b[1m13s\u001b[0m 67ms/step - accuracy: 0.9927 - loss: 0.0231 - val_accuracy: 0.9897 - val_loss: 0.0249\n",
            "Epoch 2/5\n",
            "\u001b[1m192/192\u001b[0m \u001b[32m━━━━━━━━━━━━━━━━━━━━\u001b[0m\u001b[37m\u001b[0m \u001b[1m21s\u001b[0m 68ms/step - accuracy: 0.9963 - loss: 0.0139 - val_accuracy: 0.9919 - val_loss: 0.0259\n",
            "Epoch 3/5\n",
            "\u001b[1m192/192\u001b[0m \u001b[32m━━━━━━━━━━━━━━━━━━━━\u001b[0m\u001b[37m\u001b[0m \u001b[1m14s\u001b[0m 72ms/step - accuracy: 0.9945 - loss: 0.0158 - val_accuracy: 0.9949 - val_loss: 0.0234\n",
            "Epoch 4/5\n",
            "\u001b[1m192/192\u001b[0m \u001b[32m━━━━━━━━━━━━━━━━━━━━\u001b[0m\u001b[37m\u001b[0m \u001b[1m13s\u001b[0m 68ms/step - accuracy: 0.9956 - loss: 0.0121 - val_accuracy: 0.9926 - val_loss: 0.0314\n",
            "Epoch 5/5\n",
            "\u001b[1m192/192\u001b[0m \u001b[32m━━━━━━━━━━━━━━━━━━━━\u001b[0m\u001b[37m\u001b[0m \u001b[1m13s\u001b[0m 69ms/step - accuracy: 0.9941 - loss: 0.0166 - val_accuracy: 0.9963 - val_loss: 0.0211\n"
          ]
        }
      ]
    },
    {
      "cell_type": "code",
      "source": [
        "# thats graet now lets evaluate our moel\n",
        "test_loss, test_accuracy = model.evaluate(X_test, y_test)\n",
        "print(f\"Test Accuracy: {test_accuracy:.4f}\")\n"
      ],
      "metadata": {
        "colab": {
          "base_uri": "https://localhost:8080/"
        },
        "id": "8bMwMWB28j5l",
        "outputId": "64a35670-f986-46f0-d6e6-081423d08a5a"
      },
      "execution_count": null,
      "outputs": [
        {
          "output_type": "stream",
          "name": "stdout",
          "text": [
            "\u001b[1m107/107\u001b[0m \u001b[32m━━━━━━━━━━━━━━━━━━━━\u001b[0m\u001b[37m\u001b[0m \u001b[1m1s\u001b[0m 12ms/step - accuracy: 0.9954 - loss: 0.0170\n",
            "Test Accuracy: 0.9932\n"
          ]
        }
      ]
    },
    {
      "cell_type": "markdown",
      "source": [
        "Thats great  99.32%"
      ],
      "metadata": {
        "id": "FCq2MD-H9mlg"
      }
    },
    {
      "cell_type": "markdown",
      "source": [
        "Now kets see which digit is confusing with others by plotting a confusion matrix"
      ],
      "metadata": {
        "id": "pZ96rdgg94tH"
      }
    },
    {
      "cell_type": "code",
      "source": [
        "from sklearn.metrics import confusion_matrix, ConfusionMatrixDisplay\n",
        "\n",
        "# Predict test labels\n",
        "y_pred = np.argmax(model.predict(X_test), axis=1)\n",
        "\n",
        "# Create and plot confusion matrix\n",
        "cm = confusion_matrix(y_test, y_pred)\n",
        "disp = ConfusionMatrixDisplay(confusion_matrix=cm, display_labels=[str(i) for i in range(10)])\n",
        "\n",
        "plt.figure(figsize=(8, 6))\n",
        "disp.plot(cmap='Blues', values_format='d')\n",
        "plt.title(\"Confusion Matrix - Hindi Digits\")\n",
        "plt.show()\n"
      ],
      "metadata": {
        "colab": {
          "base_uri": "https://localhost:8080/",
          "height": 508
        },
        "id": "vy4zm7h19kgq",
        "outputId": "813cc561-988c-4efe-f231-ff2beace0f2d"
      },
      "execution_count": null,
      "outputs": [
        {
          "output_type": "stream",
          "name": "stdout",
          "text": [
            "\u001b[1m107/107\u001b[0m \u001b[32m━━━━━━━━━━━━━━━━━━━━\u001b[0m\u001b[37m\u001b[0m \u001b[1m1s\u001b[0m 13ms/step\n"
          ]
        },
        {
          "output_type": "display_data",
          "data": {
            "text/plain": [
              "<Figure size 800x600 with 0 Axes>"
            ]
          },
          "metadata": {}
        },
        {
          "output_type": "display_data",
          "data": {
            "text/plain": [
              "<Figure size 640x480 with 2 Axes>"
            ],
            "image/png": "[encoded data removed]"
          },
          "metadata": {}
        }
      ]
    },
    {
      "cell_type": "markdown",
      "source": [
        "ohh we can see that the number 2 and 3 are easily mismatched as well as the number 9 with 2 and 6 also, but we can like not pay any attention as the mismatching is very few"
      ],
      "metadata": {
        "id": "iFFqvNsu-ZEN"
      }
    },
    {
      "cell_type": "markdown",
      "source": [
        "So now lets use data augmentation to imrove our accuracy"
      ],
      "metadata": {
        "id": "oPMt9a27-paJ"
      }
    },
    {
      "cell_type": "code",
      "source": [
        "from tensorflow.keras.preprocessing.image import ImageDataGenerator\n",
        "\n",
        "# creating data geneartor fro augemntation\n",
        "datagen = ImageDataGenerator(\n",
        "    rotation_range=10,        # randomly rotate ±10 degrees\n",
        "    width_shift_range=0.1,    # shift horizontally\n",
        "    height_shift_range=0.1,   # shift vertically\n",
        "    zoom_range=0.1,           # zoom in/out\n",
        "    shear_range=0.1,          # apply shearing\n",
        ")\n",
        "\n",
        "# fit the data generator to the training data\n",
        "datagen.fit(X_train)\n"
      ],
      "metadata": {
        "id": "bihkpMBv-Dix"
      },
      "execution_count": null,
      "outputs": []
    },
    {
      "cell_type": "code",
      "source": [
        "# now lets retrain our model\n",
        "history_aug = model.fit(datagen.flow(X_train, y_train, batch_size=64),\n",
        "                        validation_data=(X_test, y_test),\n",
        "                        epochs=5)\n"
      ],
      "metadata": {
        "colab": {
          "base_uri": "https://localhost:8080/"
        },
        "id": "TnAmdH5v_FRZ",
        "outputId": "71bcac05-2689-442a-c143-c0fe10baca32"
      },
      "execution_count": null,
      "outputs": [
        {
          "output_type": "stream",
          "name": "stdout",
          "text": [
            "Epoch 1/5\n"
          ]
        },
        {
          "output_type": "stream",
          "name": "stderr",
          "text": [
            "/usr/local/lib/python3.11/dist-packages/keras/src/trainers/data_adapters/py_dataset_adapter.py:121: UserWarning: Your `PyDataset` class should call `super().__init__(**kwargs)` in its constructor. `**kwargs` can include `workers`, `use_multiprocessing`, `max_queue_size`. Do not pass these arguments to `fit()`, as they will be ignored.\n",
            "  self._warn_if_super_not_called()\n"
          ]
        },
        {
          "output_type": "stream",
          "name": "stdout",
          "text": [
            "\u001b[1m213/213\u001b[0m \u001b[32m━━━━━━━━━━━━━━━━━━━━\u001b[0m\u001b[37m\u001b[0m \u001b[1m20s\u001b[0m 93ms/step - accuracy: 0.9301 - loss: 0.2303 - val_accuracy: 0.9956 - val_loss: 0.0179\n",
            "Epoch 2/5\n",
            "\u001b[1m213/213\u001b[0m \u001b[32m━━━━━━━━━━━━━━━━━━━━\u001b[0m\u001b[37m\u001b[0m \u001b[1m18s\u001b[0m 86ms/step - accuracy: 0.9644 - loss: 0.1124 - val_accuracy: 0.9965 - val_loss: 0.0122\n",
            "Epoch 3/5\n",
            "\u001b[1m213/213\u001b[0m \u001b[32m━━━━━━━━━━━━━━━━━━━━\u001b[0m\u001b[37m\u001b[0m \u001b[1m21s\u001b[0m 99ms/step - accuracy: 0.9747 - loss: 0.0787 - val_accuracy: 0.9959 - val_loss: 0.0121\n",
            "Epoch 4/5\n",
            "\u001b[1m213/213\u001b[0m \u001b[32m━━━━━━━━━━━━━━━━━━━━\u001b[0m\u001b[37m\u001b[0m \u001b[1m18s\u001b[0m 86ms/step - accuracy: 0.9755 - loss: 0.0775 - val_accuracy: 0.9959 - val_loss: 0.0096\n",
            "Epoch 5/5\n",
            "\u001b[1m213/213\u001b[0m \u001b[32m━━━━━━━━━━━━━━━━━━━━\u001b[0m\u001b[37m\u001b[0m \u001b[1m21s\u001b[0m 97ms/step - accuracy: 0.9818 - loss: 0.0610 - val_accuracy: 0.9968 - val_loss: 0.0080\n"
          ]
        }
      ]
    },
    {
      "cell_type": "code",
      "source": [
        "# now lets reavluate our model\n",
        "test_loss, test_accuracy = model.evaluate(X_test, y_test)\n",
        "print(f\"Test Accuracy: {test_accuracy:.4f}\")\n"
      ],
      "metadata": {
        "colab": {
          "base_uri": "https://localhost:8080/"
        },
        "id": "3snRqrWg_XyD",
        "outputId": "156605b6-ddbd-4479-857e-682b9ee87af5"
      },
      "execution_count": null,
      "outputs": [
        {
          "output_type": "stream",
          "name": "stdout",
          "text": [
            "\u001b[1m107/107\u001b[0m \u001b[32m━━━━━━━━━━━━━━━━━━━━\u001b[0m\u001b[37m\u001b[0m \u001b[1m1s\u001b[0m 14ms/step - accuracy: 0.9970 - loss: 0.0072\n",
            "Test Accuracy: 0.9968\n"
          ]
        }
      ]
    },
    {
      "cell_type": "markdown",
      "source": [
        "lets replot the confusion matrix"
      ],
      "metadata": {
        "id": "3sIPI1ryAjhv"
      }
    },
    {
      "cell_type": "markdown",
      "source": [
        "See on doing it our accuracy increased from 99.32 to 99.68%. Oh thats great"
      ],
      "metadata": {
        "id": "VB6nNO4B_1pk"
      }
    },
    {
      "cell_type": "code",
      "source": [
        "y_pred_aug = np.argmax(model.predict(X_test), axis=1)\n",
        "\n",
        "# Updated confusion matrix\n",
        "cm_aug = confusion_matrix(y_test, y_pred_aug)\n",
        "disp = ConfusionMatrixDisplay(confusion_matrix=cm_aug, display_labels=[str(i) for i in range(10)])\n",
        "disp.plot(cmap='Blues', values_format='d')\n",
        "plt.title(\"Confusion Matrix (After Augmentation)\")\n",
        "plt.show()\n"
      ],
      "metadata": {
        "colab": {
          "base_uri": "https://localhost:8080/",
          "height": 490
        },
        "id": "Te7RSm7Y_w2a",
        "outputId": "75bbef34-c4bb-4b88-dfdd-26af2867b532"
      },
      "execution_count": null,
      "outputs": [
        {
          "output_type": "stream",
          "name": "stdout",
          "text": [
            "\u001b[1m107/107\u001b[0m \u001b[32m━━━━━━━━━━━━━━━━━━━━\u001b[0m\u001b[37m\u001b[0m \u001b[1m1s\u001b[0m 12ms/step\n"
          ]
        },
        {
          "output_type": "display_data",
          "data": {
            "text/plain": [
              "<Figure size 640x480 with 2 Axes>"
            ],
            "image/png": "[encoded data removed]"
          },
          "metadata": {}
        }
      ]
    },
    {
      "cell_type": "markdown",
      "source": [
        "Oh see the mismatch between number 2,3 and 9 are become fewer than before also, but ya the mismatch between number 7 and 8 is increased but let it be as it is not much , we may ignore it\n"
      ],
      "metadata": {
        "id": "j7lDgOkHAnFx"
      }
    }
  ]
}